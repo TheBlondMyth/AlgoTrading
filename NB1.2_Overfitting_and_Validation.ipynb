{
  "nbformat": 4,
  "nbformat_minor": 0,
  "metadata": {
    "colab": {
      "provenance": [],
      "include_colab_link": true
    },
    "kernelspec": {
      "name": "python3",
      "display_name": "Python 3"
    },
    "language_info": {
      "name": "python"
    }
  },
  "cells": [
    {
      "cell_type": "markdown",
      "metadata": {
        "id": "view-in-github",
        "colab_type": "text"
      },
      "source": [
        "<a href=\"https://colab.research.google.com/github/TheBlondMyth/AlgoTrading/blob/main/NB1.2_Overfitting_and_Validation.ipynb\" target=\"_parent\"><img src=\"https://colab.research.google.com/assets/colab-badge.svg\" alt=\"Open In Colab\"/></a>"
      ]
    },
    {
      "cell_type": "markdown",
      "source": [
        "# Deep learning using noisy data: overfitting and validation\n",
        "\n",
        "\n",
        "---\n",
        "\n",
        "\n",
        "This notebook covers another simple deep learning problem similar to the one in NB 1.1, except we now add noises to the observed data.\n",
        "\n",
        "In this example, we assume the true relationship between feature $x$ and label $y$ is\n",
        "\\begin{align}\n",
        "y=f(x)=10x - x^2\n",
        "\\end{align}\n",
        "We generate $N$ samples of data $(x^i,y^i)$ as follows:\n",
        "\n",
        "1.   Create a list of $N$ feature values via $x^i:=10(i-1)/(N-1)$ for $i=1,...,N$ such that $x^i$'s are $N$ uniformly-spaced numbers in $[0,10]$.\n",
        "2.   Generate values of the label $y^i$ via\n",
        "\\begin{align}\n",
        "y^i=f(x^i)+\\epsilon^i \\qquad \\text{for }i=1,...,N\n",
        "\\end{align}\n",
        "where $\\epsilon^i\\sim N(0,\\eta^2)$ are i.i.d. Gaussian random variables with mean zero and standard deviation $\\eta$.\n",
        "\n",
        "We will construct two deep learning models: a \"simple\" one and a \"complex\" one. Then we will compare their fitting performance.\n",
        "\n",
        "\n",
        "---\n",
        "\n"
      ],
      "metadata": {
        "id": "i5TIg_9k1fSw"
      }
    },
    {
      "cell_type": "markdown",
      "source": [
        "# Demonstration of overfitting\n",
        "\n",
        "As before, we first import the standard packages as follows."
      ],
      "metadata": {
        "id": "-3R79hygvP8o"
      }
    },
    {
      "cell_type": "code",
      "execution_count": null,
      "metadata": {
        "id": "2MJpYPNX0uwe"
      },
      "outputs": [],
      "source": [
        "import numpy as np\n",
        "import matplotlib.pyplot as plt\n",
        "import tensorflow as tf"
      ]
    },
    {
      "cell_type": "markdown",
      "source": [
        "Then we generate the data using the previously described procedures. Note that we have fixed the random seed by the command \"np.random.seed(123)\" and \"tf.random.set_seed(123)\". Whenever random simulation is involved, it is usually a good practice to do so to ensure the program is generating the same random outcomes on each run which facilitates reproducibility of the outputs.\n",
        "\n",
        "The number of data points is chosen to be $N=200$ (intentionally chosen to be a small number for better illustration) and the standard deviation of the noise is $\\eta=2$."
      ],
      "metadata": {
        "id": "LIduGX9FvWvH"
      }
    },
    {
      "cell_type": "code",
      "source": [
        "N = 200\n",
        "eta = 2\n",
        "np.random.seed(123)\n",
        "tf.random.set_seed(123)\n",
        "\n",
        "obs_x = np.linspace(0, 10, N)                 # create an array of N elements ranging from 0 to 10\n",
        "true_y = 10*obs_x - obs_x**2\n",
        "obs_y = true_y + np.random.normal(0, eta, N)       # add Gaussian noises to the label values\n",
        "\n",
        "# Plot the simulated data\n",
        "plt.plot(obs_x, obs_y, 'r*', label=\"Noisy observed data\")\n",
        "plt.plot(obs_x, true_y, 'b-', label=\"True model\")\n",
        "plt.xlabel('x')\n",
        "plt.legend()"
      ],
      "metadata": {
        "colab": {
          "base_uri": "https://localhost:8080/",
          "height": 296
        },
        "id": "HfHq_nZc1gdy",
        "outputId": "b600f8fd-2c44-4d71-fb7f-2cabb8e986e8"
      },
      "execution_count": null,
      "outputs": [
        {
          "output_type": "execute_result",
          "data": {
            "text/plain": [
              "<matplotlib.legend.Legend at 0x7efe1ea45f10>"
            ]
          },
          "metadata": {},
          "execution_count": 2
        },
        {
          "output_type": "display_data",
          "data": {
            "text/plain": [
              "<Figure size 432x288 with 1 Axes>"
            ],
            "image/png": "[encoded data removed]"
          },
          "metadata": {
            "needs_background": "light"
          }
        }
      ]
    },
    {
      "cell_type": "markdown",
      "source": [
        "Now we define two FNNs. The first one has a simpler structure with 2 hidden layers (each carries 50 neurons). The second one is more complex with 6 hidden layers where each of them has 1000 neurons.\n",
        "\n",
        "From the \"summary\" function, we can see the second model has around 1800 times more parameters than the first one, and hence is a much more complex one.\n",
        "\n",
        "Notice that in the code below we have used another method to define the FNN via the \"**add**\" command. This approach is sometimes useful because it allows us to define a model with many layers using a \"For loop\", and eliminates the need of writing many identical lines of code.\n",
        "  "
      ],
      "metadata": {
        "id": "RFUVk-pR3LJz"
      }
    },
    {
      "cell_type": "code",
      "source": [
        "MyModel_simple = tf.keras.models.Sequential()\n",
        "MyModel_simple.add(tf.keras.layers.Dense(50, activation=\"relu\", input_shape=(1,)))\n",
        "MyModel_simple.add(tf.keras.layers.Dense(50, activation=\"relu\"))\n",
        "MyModel_simple.add(tf.keras.layers.Dense(1, activation=\"linear\"))\n",
        "\n",
        "MyModel_complex = tf.keras.models.Sequential()\n",
        "MyModel_complex.add(tf.keras.layers.Dense(1000, activation=\"relu\", input_shape=(1,)))\n",
        "for i in range(5):\n",
        "    MyModel_complex.add(tf.keras.layers.Dense(1000, activation=\"relu\"))\n",
        "MyModel_complex.add(tf.keras.layers.Dense(1, activation=\"linear\"))\n",
        "\n",
        "'''\n",
        "The above definition of MyModel_complex is equivalent to the below\n",
        "MyModel_complex = tf.keras.models.Sequential()\n",
        "MyModel_complex.add(tf.keras.layers.Dense(1000, activation=\"relu\", input_shape=(1,)))\n",
        "MyModel_complex.add(tf.keras.layers.Dense(1000, activation=\"relu\"))\n",
        "MyModel_complex.add(tf.keras.layers.Dense(1000, activation=\"relu\"))\n",
        "MyModel_complex.add(tf.keras.layers.Dense(1000, activation=\"relu\"))\n",
        "MyModel_complex.add(tf.keras.layers.Dense(1000, activation=\"relu\"))\n",
        "MyModel_complex.add(tf.keras.layers.Dense(1000, activation=\"relu\"))\n",
        "MyModel_complex.add(tf.keras.layers.Dense(1, activation=\"linear\"))\n",
        "'''\n",
        "\n",
        "MyModel_simple.summary()\n",
        "MyModel_complex.summary()"
      ],
      "metadata": {
        "id": "iYjPXiYx3Pur",
        "colab": {
          "base_uri": "https://localhost:8080/"
        },
        "outputId": "ac30c803-fca1-4b1e-85aa-6a56ecdc9179"
      },
      "execution_count": null,
      "outputs": [
        {
          "output_type": "stream",
          "name": "stdout",
          "text": [
            "Model: \"sequential\"\n",
            "_________________________________________________________________\n",
            " Layer (type)                Output Shape              Param #   \n",
            "=================================================================\n",
            " dense (Dense)               (None, 50)                100       \n",
            "                                                                 \n",
            " dense_1 (Dense)             (None, 50)                2550      \n",
            "                                                                 \n",
            " dense_2 (Dense)             (None, 1)                 51        \n",
            "                                                                 \n",
            "=================================================================\n",
            "Total params: 2,701\n",
            "Trainable params: 2,701\n",
            "Non-trainable params: 0\n",
            "_________________________________________________________________\n",
            "Model: \"sequential_1\"\n",
            "_________________________________________________________________\n",
            " Layer (type)                Output Shape              Param #   \n",
            "=================================================================\n",
            " dense_3 (Dense)             (None, 1000)              2000      \n",
            "                                                                 \n",
            " dense_4 (Dense)             (None, 1000)              1001000   \n",
            "                                                                 \n",
            " dense_5 (Dense)             (None, 1000)              1001000   \n",
            "                                                                 \n",
            " dense_6 (Dense)             (None, 1000)              1001000   \n",
            "                                                                 \n",
            " dense_7 (Dense)             (None, 1000)              1001000   \n",
            "                                                                 \n",
            " dense_8 (Dense)             (None, 1000)              1001000   \n",
            "                                                                 \n",
            " dense_9 (Dense)             (None, 1)                 1001      \n",
            "                                                                 \n",
            "=================================================================\n",
            "Total params: 5,008,001\n",
            "Trainable params: 5,008,001\n",
            "Non-trainable params: 0\n",
            "_________________________________________________________________\n"
          ]
        }
      ]
    },
    {
      "cell_type": "markdown",
      "source": [
        "The two models are now copiled and trained. Note that we have used a higher epochs number, where this setting can give us better model fitting results since the number of data points in this example is very low ($N=200$). Note that the computational time of training is going to be longer though."
      ],
      "metadata": {
        "id": "cSbCSzjU4f53"
      }
    },
    {
      "cell_type": "code",
      "source": [
        "MyModel_simple.compile(loss=\"mean_squared_error\")\n",
        "MyModel_simple.fit(obs_x, obs_y, epochs=1000, verbose=0)\n",
        "\n",
        "MyModel_complex.compile(loss=\"mean_squared_error\")\n",
        "MyModel_complex.fit(obs_x, obs_y, epochs=1000, verbose=0)"
      ],
      "metadata": {
        "id": "LOKHuWVj4hVp",
        "colab": {
          "base_uri": "https://localhost:8080/"
        },
        "outputId": "b0698628-f353-4749-c9d9-dbd0d4c8f157"
      },
      "execution_count": null,
      "outputs": [
        {
          "output_type": "execute_result",
          "data": {
            "text/plain": [
              "<keras.callbacks.History at 0x7efe167144c0>"
            ]
          },
          "metadata": {},
          "execution_count": 4
        }
      ]
    },
    {
      "cell_type": "markdown",
      "source": [
        "Now we can now look at the fitting results of the trained models."
      ],
      "metadata": {
        "id": "eYNQ1aMh5Xs9"
      }
    },
    {
      "cell_type": "code",
      "source": [
        "# Compute at the predicted values\n",
        "pred_y_simple = MyModel_simple.predict(obs_x)\n",
        "pred_y_complex = MyModel_complex.predict(obs_x)\n",
        "\n",
        "\n",
        "# Plot the results graphically\n",
        "fig, (ax1, ax2) = plt.subplots(nrows=1, ncols=2, figsize=(15,5))\n",
        "\n",
        "ax1.plot(obs_x, true_y, 'k--,', label=\"True model\")\n",
        "ax1.plot(obs_x, obs_y, 'r*', label=\"Noisy data\")\n",
        "ax1.plot(obs_x, pred_y_simple, 'g-,', label=\"Prediction\")\n",
        "ax1.set_title(\"Simple model\")\n",
        "ax1.legend()\n",
        "\n",
        "ax2.plot(obs_x, true_y, 'k--,', label=\"True model\")\n",
        "ax2.plot(obs_x, obs_y, 'r*', label=\"Noisy data\")\n",
        "ax2.plot(obs_x, pred_y_complex, 'b-,', label=\"Prediction\")\n",
        "ax2.set_title(\"Complex model\")\n",
        "ax2.legend()"
      ],
      "metadata": {
        "colab": {
          "base_uri": "https://localhost:8080/",
          "height": 388
        },
        "id": "khz3jjBs5gS3",
        "outputId": "c3b0d18f-dcd8-42c8-c46b-14afea0f345b"
      },
      "execution_count": null,
      "outputs": [
        {
          "output_type": "stream",
          "name": "stdout",
          "text": [
            "7/7 [==============================] - 0s 1ms/step\n",
            "7/7 [==============================] - 0s 8ms/step\n"
          ]
        },
        {
          "output_type": "execute_result",
          "data": {
            "text/plain": [
              "<matplotlib.legend.Legend at 0x7efe19bc0ac0>"
            ]
          },
          "metadata": {},
          "execution_count": 5
        },
        {
          "output_type": "display_data",
          "data": {
            "text/plain": [
              "<Figure size 1080x360 with 2 Axes>"
            ],
            "image/png": "[encoded data removed]"
          },
          "metadata": {
            "needs_background": "light"
          }
        }
      ]
    },
    {
      "cell_type": "markdown",
      "source": [
        "If we look at the plots above, the complex model exhibits more irregular pattern as if it is trying to fit the noises rather than the fundamental mechanism of the data generation. It is a symptom of overfitting.\n",
        "\n",
        "\n",
        "---\n",
        "\n"
      ],
      "metadata": {
        "id": "ZkNj4_FQAH8G"
      }
    },
    {
      "cell_type": "markdown",
      "source": [
        "# Testing set and validation set\n",
        "\n",
        "A more \"scientific\" (rather than graphical) approach to detect overfitting is to break the available data into the training set and validation (or testing) set. Then we train the model using the training set only, but look at the performance of the model using the validation set."
      ],
      "metadata": {
        "id": "gVujX9Cr9o57"
      }
    },
    {
      "cell_type": "markdown",
      "source": [
        "The first step is to split our data into the two sets. This can be achieved by the function \"train_test_split\" from the \"sklearn\" library. In the example below, we spilt the data half-half. But in practice the proportion of data used for training is usually much larger (e.g. 70% of all data) especially if we have many more data points."
      ],
      "metadata": {
        "id": "gQyDCQqfDvqZ"
      }
    },
    {
      "cell_type": "code",
      "source": [
        "from sklearn.model_selection import train_test_split\n",
        "x_train, x_test, y_train, y_test = train_test_split(obs_x, obs_y, test_size=0.5, random_state=123) #fix the \"random_state\" to ensure same random split outcomes every time for reproducibility"
      ],
      "metadata": {
        "id": "1zBb3AFf_Ihi"
      },
      "execution_count": null,
      "outputs": []
    },
    {
      "cell_type": "markdown",
      "source": [
        "Now we define, compile and train our models again. Importantly, **only the training set (x_train, y_train) are passed to the \"fit\" command**."
      ],
      "metadata": {
        "id": "YMqXLfE8_RpE"
      }
    },
    {
      "cell_type": "code",
      "source": [
        "MyModel_simple = tf.keras.models.Sequential()\n",
        "MyModel_simple.add(tf.keras.layers.Dense(50, activation=\"relu\", input_shape=(1,)))\n",
        "MyModel_simple.add(tf.keras.layers.Dense(50, activation=\"relu\"))\n",
        "MyModel_simple.add(tf.keras.layers.Dense(1, activation=\"linear\"))\n",
        "\n",
        "MyModel_complex = tf.keras.models.Sequential()\n",
        "MyModel_complex.add(tf.keras.layers.Dense(1000, activation=\"relu\", input_shape=(1,)))\n",
        "for i in range(5):\n",
        "    MyModel_complex.add(tf.keras.layers.Dense(1000, activation=\"relu\"))\n",
        "MyModel_complex.add(tf.keras.layers.Dense(1, activation=\"linear\"))\n",
        "\n",
        "MyModel_simple.compile(loss=\"mean_squared_error\")\n",
        "MyModel_simple.fit(x_train, y_train, epochs=1000, verbose=0)\n",
        "\n",
        "MyModel_complex.compile(loss=\"mean_squared_error\")\n",
        "MyModel_complex.fit(x_train, y_train, epochs=1000, verbose=0)"
      ],
      "metadata": {
        "id": "DOrf7Oqm_Skg",
        "colab": {
          "base_uri": "https://localhost:8080/"
        },
        "outputId": "186382f4-d869-44a8-d98a-d4bb5503f6ad"
      },
      "execution_count": null,
      "outputs": [
        {
          "output_type": "execute_result",
          "data": {
            "text/plain": [
              "<keras.callbacks.History at 0x7efe1134f6a0>"
            ]
          },
          "metadata": {},
          "execution_count": 8
        }
      ]
    },
    {
      "cell_type": "markdown",
      "source": [
        "Now we can compute the training loss and validation loss associated with the two fitted models."
      ],
      "metadata": {
        "id": "ORfMHJU1Q9Qy"
      }
    },
    {
      "cell_type": "code",
      "source": [
        "train_loss_simple = MyModel_simple.evaluate(x_train, y_train, verbose=0)\n",
        "train_loss_complex = MyModel_complex.evaluate(x_train, y_train, verbose=0)\n",
        "test_loss_simple = MyModel_simple.evaluate(x_test, y_test, verbose=0)\n",
        "test_loss_complex = MyModel_complex.evaluate(x_test, y_test, verbose=0)\n",
        "\n",
        "print(\"Training loss of simple model: \", train_loss_simple)\n",
        "print(\"Training loss of complex model: \", train_loss_complex)\n",
        "\n",
        "print(\"Validation loss of simple model: \", test_loss_simple)\n",
        "print(\"Validation loss of complex model: \", test_loss_complex)"
      ],
      "metadata": {
        "colab": {
          "base_uri": "https://localhost:8080/"
        },
        "id": "ectQYnuZCjA3",
        "outputId": "329d64ee-c744-4b03-84b7-58b8aa1a77f6"
      },
      "execution_count": null,
      "outputs": [
        {
          "output_type": "stream",
          "name": "stdout",
          "text": [
            "Training loss of simple model:  3.9134528636932373\n",
            "Training loss of complex model:  3.2570433616638184\n",
            "Validation loss of simple model:  5.105062007904053\n",
            "Validation loss of complex model:  6.2698774337768555\n"
          ]
        }
      ]
    },
    {
      "cell_type": "markdown",
      "source": [
        "From the prespective of training loss, the simple model is performing worse because it has larger value. But using validation loss, the simple model indeed performs better. This confirms our intuition that the complex model overfits the data such that its ability to generalise to unseen data is not so good."
      ],
      "metadata": {
        "id": "VTZeW42l8Nib"
      }
    }
  ]
}