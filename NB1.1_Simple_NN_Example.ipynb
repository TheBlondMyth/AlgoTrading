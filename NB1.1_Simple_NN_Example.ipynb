{
  "nbformat": 4,
  "nbformat_minor": 0,
  "metadata": {
    "colab": {
      "provenance": [],
      "include_colab_link": true
    },
    "kernelspec": {
      "name": "python3",
      "display_name": "Python 3"
    },
    "language_info": {
      "name": "python"
    }
  },
  "cells": [
    {
      "cell_type": "markdown",
      "metadata": {
        "id": "view-in-github",
        "colab_type": "text"
      },
      "source": [
        "<a href=\"https://colab.research.google.com/github/TheBlondMyth/AlgoTrading/blob/main/NB1.1_Simple_NN_Example.ipynb\" target=\"_parent\"><img src=\"https://colab.research.google.com/assets/colab-badge.svg\" alt=\"Open In Colab\"/></a>"
      ]
    },
    {
      "cell_type": "markdown",
      "source": [
        "# Importing standard packages\n",
        "\n",
        "\n",
        "---\n",
        "\n",
        "\n",
        "At the beginning of the program, we need to import several libraries:\n",
        "\n",
        "*   \"numpy\" (Numerical Python) is the standard package covering lot of mathematical functionalities like basic math functions, array/vector/matrix operations, random number generation, etc\n",
        "*   \"matplotlib.pyplot\" is the package used for plotting figures\n",
        "*   \"tensorflow\" is an open-source library developed by Google Brain for deep learning (https://www.tensorflow.org/)\n",
        "\n",
        "Any other additional packages can be imported as required."
      ],
      "metadata": {
        "id": "IWcV-Zx30y2k"
      }
    },
    {
      "cell_type": "code",
      "execution_count": null,
      "metadata": {
        "id": "2MJpYPNX0uwe"
      },
      "outputs": [],
      "source": [
        "import numpy as np\n",
        "import matplotlib.pyplot as plt\n",
        "import tensorflow as tf"
      ]
    },
    {
      "cell_type": "markdown",
      "source": [
        "# Preparing the data\n",
        "\n",
        "\n",
        "---\n",
        "\n",
        "\n",
        "The first step of a machine learning problem is to prepare the data (which is probably the most time-consuming part of the problem). In this very simple exercise, we will work with simulated data since our main focus is to illustrate how a neural network is programmed.\n",
        "\n",
        "We will generate $N$ samples of data $(x^i,y^i)$ as follows:\n",
        "\n",
        "1.   Create a list of $N$ feature values via $x^i:=10(i-1)/(N-1)$ for $i=1,...,N$ such that $x^i$'s are $N$ uniformly-spaced numbers in the interval $[0,10]$.\n",
        "2.   Generate values of the label $y^i$ via\n",
        "\\begin{align}\n",
        "y^i=\\sin x^i + \\sin 2x^i \\qquad \\text{for }i=1,...,N\n",
        "\\end{align}\n",
        "\n",
        "Our goal is to see if we can build and train a neural network which learns the ``true mechanism'' $f(x)=\\sin x+\\sin 2x$ from the simulated data $(x^i,y^i)$."
      ],
      "metadata": {
        "id": "i5TIg_9k1fSw"
      }
    },
    {
      "cell_type": "markdown",
      "source": [
        "In our example we set $N=50000$. The following codes generate and plot the samples $(x^i,y^i)$."
      ],
      "metadata": {
        "id": "vzYfCWjH_REa"
      }
    },
    {
      "cell_type": "code",
      "source": [
        "N = 50000           # number of samples\n",
        "\n",
        "obs_x = np.linspace(0, 10, N)                 # create an array of N evenly-spaced elements in [0,10]\n",
        "obs_y = np.sin(obs_x)+ np.sin(2* obs_x)       # compute the values of the corresponding label\n",
        "\n",
        "# Plot the simulated data\n",
        "plt.plot(obs_x, obs_y, 'r.', label=\"Observed data\")\n",
        "plt.xlabel('x')\n",
        "plt.legend()"
      ],
      "metadata": {
        "colab": {
          "base_uri": "https://localhost:8080/",
          "height": 466
        },
        "id": "HfHq_nZc1gdy",
        "outputId": "6e4a9367-90c0-48df-8431-79f8db79e9da"
      },
      "execution_count": null,
      "outputs": [
        {
          "output_type": "execute_result",
          "data": {
            "text/plain": [
              "<matplotlib.legend.Legend at 0x7927c9f99150>"
            ]
          },
          "metadata": {},
          "execution_count": 18
        },
        {
          "output_type": "display_data",
          "data": {
            "text/plain": [
              "<Figure size 640x480 with 1 Axes>"
            ],
            "image/png": "[encoded data removed]"
          },
          "metadata": {}
        }
      ]
    },
    {
      "cell_type": "markdown",
      "source": [
        "# Coding a neural network\n",
        "\n",
        "\n",
        "---\n",
        "\n",
        "\n",
        "Let's build a neural network to describe the data. As an example, we consider a feedforward neural network (FNN) with the following structure:\n",
        "*   2 hidden layers\n",
        "*   Each hidden layer has 50 neurons\n",
        "*   ReLU activation functions at the hidden layers; and identity function at the output layer (i.e. no activation function applied at the output layer)\n",
        "\n",
        "\n",
        "The following code builds a neural network object with name \"MyModel\" representing such a FNN.\n",
        "*   \"**Sequential(...)**\" is the function from the TensorFlow library which creates a FNN object, and its structure can be further defined by the arguments inside the parentheses.\n",
        "*   The first line \"**tf.keras.layers.Dense(50, activation=\"relu\", input_shape=(1,))**\" tells the program that the first hidden layer has 50 neurons with ReLU activation function. The argument \"input_shape=(1,)\" is to let the program know that our input feature is one-dimensional real number ($\\mathbb{R}$) only.\n",
        "*   The second line \"**tf.keras.layers.Dense(50, activation='relu')**\" adds a second hidden layer of 50 neurons and ReLU activation function on top of the first one.\n",
        "*   The final line \"**tf.keras.layers.Dense(1, activation='linear')**\" adds another layer of 1 neuron only with an identity activation function. Since this is the last layer we declare, this is interpreted by the program as the output layer. We must specify the number of neuron as 1 here because the output label space is one-dimensional ($\\mathbb{R}$) and the output layer must contain exactly one neuron.\n",
        "\n",
        "Other activation functions are available. See [here](https://keras.io/api/layers/activations/) for example.\n",
        "\n",
        "  "
      ],
      "metadata": {
        "id": "RFUVk-pR3LJz"
      }
    },
    {
      "cell_type": "code",
      "source": [
        "MyModel = tf.keras.models.Sequential([\n",
        "  tf.keras.layers.Dense(50, activation=\"relu\", input_shape=(1,)),\n",
        "  tf.keras.layers.Dense(50, activation='relu'),\n",
        "  tf.keras.layers.Dense(1, activation='linear')\n",
        "])"
      ],
      "metadata": {
        "id": "iYjPXiYx3Pur"
      },
      "execution_count": null,
      "outputs": []
    },
    {
      "cell_type": "markdown",
      "source": [
        "After building the model, we can use the command \"**summary()**\" to see the structure and the total number of model parameters of our defined model. Compare the displayed information against our formula for the total number of parameters\n",
        "\\begin{align}\n",
        "\\sum_{i=1}^{K+1}(d_{i}+d_{i}\\times d_{i-1}).\n",
        "\\end{align}"
      ],
      "metadata": {
        "id": "6VGNgVLs37R0"
      }
    },
    {
      "cell_type": "code",
      "source": [
        "MyModel.summary()"
      ],
      "metadata": {
        "colab": {
          "base_uri": "https://localhost:8080/",
          "height": 238
        },
        "id": "_cA9u-NI38U2",
        "outputId": "93eecfd3-f2f8-4083-92af-ccd1223323e5"
      },
      "execution_count": null,
      "outputs": [
        {
          "output_type": "display_data",
          "data": {
            "text/plain": [
              "\u001b[1mModel: \"sequential_2\"\u001b[0m\n"
            ],
            "text/html": [
              "<pre style=\"white-space:pre;overflow-x:auto;line-height:normal;font-family:Menlo,'DejaVu Sans Mono',consolas,'Courier New',monospace\"><span style=\"font-weight: bold\">Model: \"sequential_2\"</span>\n",
              "</pre>\n"
            ]
          },
          "metadata": {}
        },
        {
          "output_type": "display_data",
          "data": {
            "text/plain": [
              "┏━━━━━━━━━━━━━━━━━━━━━━━━━━━━━━━━━━━━━━┳━━━━━━━━━━━━━━━━━━━━━━━━━━━━━┳━━━━━━━━━━━━━━━━━┓\n",
              "┃\u001b[1m \u001b[0m\u001b[1mLayer (type)                        \u001b[0m\u001b[1m \u001b[0m┃\u001b[1m \u001b[0m\u001b[1mOutput Shape               \u001b[0m\u001b[1m \u001b[0m┃\u001b[1m \u001b[0m\u001b[1m        Param #\u001b[0m\u001b[1m \u001b[0m┃\n",
              "┡━━━━━━━━━━━━━━━━━━━━━━━━━━━━━━━━━━━━━━╇━━━━━━━━━━━━━━━━━━━━━━━━━━━━━╇━━━━━━━━━━━━━━━━━┩\n",
              "│ dense_6 (\u001b[38;5;33mDense\u001b[0m)                      │ (\u001b[38;5;45mNone\u001b[0m, \u001b[38;5;34m50\u001b[0m)                  │             \u001b[38;5;34m100\u001b[0m │\n",
              "├──────────────────────────────────────┼─────────────────────────────┼─────────────────┤\n",
              "│ dense_7 (\u001b[38;5;33mDense\u001b[0m)                      │ (\u001b[38;5;45mNone\u001b[0m, \u001b[38;5;34m50\u001b[0m)                  │           \u001b[38;5;34m2,550\u001b[0m │\n",
              "├──────────────────────────────────────┼─────────────────────────────┼─────────────────┤\n",
              "│ dense_8 (\u001b[38;5;33mDense\u001b[0m)                      │ (\u001b[38;5;45mNone\u001b[0m, \u001b[38;5;34m1\u001b[0m)                   │              \u001b[38;5;34m51\u001b[0m │\n",
              "└──────────────────────────────────────┴─────────────────────────────┴─────────────────┘\n"
            ],
            "text/html": [
              "<pre style=\"white-space:pre;overflow-x:auto;line-height:normal;font-family:Menlo,'DejaVu Sans Mono',consolas,'Courier New',monospace\">┏━━━━━━━━━━━━━━━━━━━━━━━━━━━━━━━━━━━━━━┳━━━━━━━━━━━━━━━━━━━━━━━━━━━━━┳━━━━━━━━━━━━━━━━━┓\n",
              "┃<span style=\"font-weight: bold\"> Layer (type)                         </span>┃<span style=\"font-weight: bold\"> Output Shape                </span>┃<span style=\"font-weight: bold\">         Param # </span>┃\n",
              "┡━━━━━━━━━━━━━━━━━━━━━━━━━━━━━━━━━━━━━━╇━━━━━━━━━━━━━━━━━━━━━━━━━━━━━╇━━━━━━━━━━━━━━━━━┩\n",
              "│ dense_6 (<span style=\"color: #0087ff; text-decoration-color: #0087ff\">Dense</span>)                      │ (<span style=\"color: #00d7ff; text-decoration-color: #00d7ff\">None</span>, <span style=\"color: #00af00; text-decoration-color: #00af00\">50</span>)                  │             <span style=\"color: #00af00; text-decoration-color: #00af00\">100</span> │\n",
              "├──────────────────────────────────────┼─────────────────────────────┼─────────────────┤\n",
              "│ dense_7 (<span style=\"color: #0087ff; text-decoration-color: #0087ff\">Dense</span>)                      │ (<span style=\"color: #00d7ff; text-decoration-color: #00d7ff\">None</span>, <span style=\"color: #00af00; text-decoration-color: #00af00\">50</span>)                  │           <span style=\"color: #00af00; text-decoration-color: #00af00\">2,550</span> │\n",
              "├──────────────────────────────────────┼─────────────────────────────┼─────────────────┤\n",
              "│ dense_8 (<span style=\"color: #0087ff; text-decoration-color: #0087ff\">Dense</span>)                      │ (<span style=\"color: #00d7ff; text-decoration-color: #00d7ff\">None</span>, <span style=\"color: #00af00; text-decoration-color: #00af00\">1</span>)                   │              <span style=\"color: #00af00; text-decoration-color: #00af00\">51</span> │\n",
              "└──────────────────────────────────────┴─────────────────────────────┴─────────────────┘\n",
              "</pre>\n"
            ]
          },
          "metadata": {}
        },
        {
          "output_type": "display_data",
          "data": {
            "text/plain": [
              "\u001b[1m Total params: \u001b[0m\u001b[38;5;34m2,701\u001b[0m (10.55 KB)\n"
            ],
            "text/html": [
              "<pre style=\"white-space:pre;overflow-x:auto;line-height:normal;font-family:Menlo,'DejaVu Sans Mono',consolas,'Courier New',monospace\"><span style=\"font-weight: bold\"> Total params: </span><span style=\"color: #00af00; text-decoration-color: #00af00\">2,701</span> (10.55 KB)\n",
              "</pre>\n"
            ]
          },
          "metadata": {}
        },
        {
          "output_type": "display_data",
          "data": {
            "text/plain": [
              "\u001b[1m Trainable params: \u001b[0m\u001b[38;5;34m2,701\u001b[0m (10.55 KB)\n"
            ],
            "text/html": [
              "<pre style=\"white-space:pre;overflow-x:auto;line-height:normal;font-family:Menlo,'DejaVu Sans Mono',consolas,'Courier New',monospace\"><span style=\"font-weight: bold\"> Trainable params: </span><span style=\"color: #00af00; text-decoration-color: #00af00\">2,701</span> (10.55 KB)\n",
              "</pre>\n"
            ]
          },
          "metadata": {}
        },
        {
          "output_type": "display_data",
          "data": {
            "text/plain": [
              "\u001b[1m Non-trainable params: \u001b[0m\u001b[38;5;34m0\u001b[0m (0.00 B)\n"
            ],
            "text/html": [
              "<pre style=\"white-space:pre;overflow-x:auto;line-height:normal;font-family:Menlo,'DejaVu Sans Mono',consolas,'Courier New',monospace\"><span style=\"font-weight: bold\"> Non-trainable params: </span><span style=\"color: #00af00; text-decoration-color: #00af00\">0</span> (0.00 B)\n",
              "</pre>\n"
            ]
          },
          "metadata": {}
        }
      ]
    },
    {
      "cell_type": "markdown",
      "source": [
        "# Model training\n",
        "\n",
        "\n",
        "---\n",
        "\n",
        "\n",
        "Next, we configurate the hyperparameters related to the model training (i.e. the numerical algorithm which minimises a chosen loss function) via the command \"**compile**\". This example is a regression task, and we choose our loss function as the squared loss $\\ell(y,\\hat{y})=(y-\\hat{y})^2$ which comes with the library as **\"mean_squared_error\"**. Other possible choices for regression task include \"mean_absolute_error\", \"huber_loss\", \"log_cosh\", etc. For binary classification task, one can consider \"binary_crossentropy\". (See here for the documentation https://keras.io/api/losses/)\n",
        "\n",
        "There are several other training settings that can be tuned by \"compile\" as well (to be explored in Topic 3)."
      ],
      "metadata": {
        "id": "cSbCSzjU4f53"
      }
    },
    {
      "cell_type": "code",
      "source": [
        "MyModel.compile(loss=\"mean_squared_error\")"
      ],
      "metadata": {
        "id": "LOKHuWVj4hVp"
      },
      "execution_count": null,
      "outputs": []
    },
    {
      "cell_type": "markdown",
      "source": [
        "Now we can pass the observed features (x-variables) and labels (y-variable) to the model and perform training (i.e. solving for the model parameters of the bias vectors and weighting matrices withing the neural network). This is done by the function \"**fit**\", where at minimum we need to pass the arrays (or the *tensors*) of the features data and labels data to the function.\n",
        "\n",
        "Theoretical details behind the training process will be discussed later in the course. The option \"verbose=0\" tells the program to supress all the displayed messages of the training progress (which helps speed up the program, plus we will talk about how to read the training messages later). We will discuss what \"epochs\" means in Topic 3 as well. But very loosely speaking, larger the \"epochs\" value longer the training duration and in turn a lower loss function value can be achieved."
      ],
      "metadata": {
        "id": "IwFWC0_G5IqO"
      }
    },
    {
      "cell_type": "code",
      "source": [
        "MyModel.fit(obs_x, obs_y, epochs=10, verbose=0)"
      ],
      "metadata": {
        "colab": {
          "base_uri": "https://localhost:8080/"
        },
        "id": "vMGCv9yT5RgR",
        "outputId": "1db6d2b0-743a-4bb6-ee75-cf08bbb98432"
      },
      "execution_count": null,
      "outputs": [
        {
          "output_type": "execute_result",
          "data": {
            "text/plain": [
              "<keras.src.callbacks.history.History at 0x7927ca9a2770>"
            ]
          },
          "metadata": {},
          "execution_count": 14
        }
      ]
    },
    {
      "cell_type": "markdown",
      "source": [
        "# Evaluate the fitted model\n",
        "\n",
        "\n",
        "---\n",
        "\n",
        "Now the training is done and the estimated optimal model parameters are stored inside the \"MyModel\" object. We can look at the prediction of the model $\\hat{y}^i=f_{NN}(x^i)$ and compare them against the actual data $y^i$. The predictions are generated by the command **\"predict\"**."
      ],
      "metadata": {
        "id": "eYNQ1aMh5Xs9"
      }
    },
    {
      "cell_type": "code",
      "source": [
        "pred_y = MyModel.predict(obs_x)\n",
        "\n",
        "plt.plot(obs_x, pred_y, 'g-,', label=\"Prediction of fitted model\")\n",
        "plt.plot(obs_x, obs_y, 'r-', label=\"Actual data (the true model)\")\n",
        "plt.xlabel('x')\n",
        "plt.legend()"
      ],
      "metadata": {
        "colab": {
          "base_uri": "https://localhost:8080/",
          "height": 484
        },
        "id": "khz3jjBs5gS3",
        "outputId": "34891879-44c8-4858-e116-3c3a578d5c01"
      },
      "execution_count": null,
      "outputs": [
        {
          "output_type": "stream",
          "name": "stdout",
          "text": [
            "\u001b[1m1563/1563\u001b[0m \u001b[32m━━━━━━━━━━━━━━━━━━━━\u001b[0m\u001b[37m\u001b[0m \u001b[1m3s\u001b[0m 2ms/step\n"
          ]
        },
        {
          "output_type": "execute_result",
          "data": {
            "text/plain": [
              "<matplotlib.legend.Legend at 0x7927caa0d660>"
            ]
          },
          "metadata": {},
          "execution_count": 15
        },
        {
          "output_type": "display_data",
          "data": {
            "text/plain": [
              "<Figure size 640x480 with 1 Axes>"
            ],
            "image/png": "[encoded data removed]"
          },
          "metadata": {}
        }
      ]
    },
    {
      "cell_type": "markdown",
      "source": [
        "One can also look at the average loss between the actual data and the prediction. The command \"evaluate(x,y)\" computes\n",
        "\\begin{align*}\n",
        "\\frac{1}{N}\\sum_{i=1}^N \\ell(y^i,f(x^i;\\boldsymbol{\\theta})).\n",
        "\\end{align*}\n",
        "Since the model parameters $\\boldsymbol{\\theta}$ have already been optimised, \"MyModel.evaluate(obs_x, obs_y)\" will give us average error after the optimisation is done, which should be a rather small number.\n",
        "\n",
        "(Note that the \"evaluate\" command can also be applied to new data to see whetehr the performance of the model can generalise to unseen data.)"
      ],
      "metadata": {
        "id": "5PZuGUOCtCHy"
      }
    },
    {
      "cell_type": "code",
      "source": [
        "optimised_loss = MyModel.evaluate(obs_x, obs_y, verbose=0)  # use verbose=0 to supress some displayed message of the evaluation\n",
        "print(\"Optimised loss function value is: \", optimised_loss)"
      ],
      "metadata": {
        "colab": {
          "base_uri": "https://localhost:8080/"
        },
        "id": "oA_AolbetHwx",
        "outputId": "f29d3017-4175-4536-d3c9-54fe9a9f1439"
      },
      "execution_count": null,
      "outputs": [
        {
          "output_type": "stream",
          "name": "stdout",
          "text": [
            "Optimised loss function value is:  0.018369315192103386\n"
          ]
        }
      ]
    }
  ]
}